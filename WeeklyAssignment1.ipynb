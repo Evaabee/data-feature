{
  "nbformat": 4,
  "nbformat_minor": 0,
  "metadata": {
    "colab": {
      "provenance": [],
      "include_colab_link": true
    },
    "kernelspec": {
      "name": "python3",
      "display_name": "Python 3"
    },
    "language_info": {
      "name": "python"
    }
  },
  "cells": [
    {
      "cell_type": "markdown",
      "metadata": {
        "id": "view-in-github",
        "colab_type": "text"
      },
      "source": [
        "<a href=\"https://colab.research.google.com/github/Evaabee/data-feature/blob/main/WeeklyAssignment1.ipynb\" target=\"_parent\"><img src=\"https://colab.research.google.com/assets/colab-badge.svg\" alt=\"Open In Colab\"/></a>"
      ]
    },
    {
      "cell_type": "code",
      "source": [
        "import requests\n",
        "from google.colab import userdata\n",
        "\n",
        "#api keys\n",
        "aviationstack_api_key = userdata.get(\"AVIATIONSTACK_API_KEY\")\n",
        "visualcrossing_api_key = userdata.get(\"VISUALCROSSING_API_KEY\")\n",
        "\n",
        "if aviationstack_api_key:\n",
        "    print(\"The AviationStack API key has been retrieved successfully!\")\n",
        "else:\n",
        "    print(\"Failed to retrieve the AviationStack API key.\")\n",
        "\n",
        "if visualcrossing_api_key:\n",
        "    print(\"The VisualStack API key has been retrieved successfully!\")\n",
        "else:\n",
        "    print(\"Failed to retrieve the VisualStack API key.\")"
      ],
      "metadata": {
        "id": "8N7MpXEmioGU",
        "colab": {
          "base_uri": "https://localhost:8080/"
        },
        "outputId": "d45296ca-b870-4387-ac31-75234cfe87e3"
      },
      "execution_count": 2,
      "outputs": [
        {
          "output_type": "stream",
          "name": "stdout",
          "text": [
            "The AviationStack API key has been retrieved successfully!\n",
            "The VisualStack API key has been retrieved successfully!\n"
          ]
        }
      ]
    },
    {
      "cell_type": "code",
      "source": [
        "#function to check if weather conditions might cause delays\n",
        "def is_bad_weather(precip_prob, wind_speed, conditions):\n",
        "    # Define thresholds for bad weather\n",
        "    if precip_prob > 50 or wind_speed > 20 or 'rain' in conditions.lower() or 'snow' in conditions.lower():\n",
        "        return True\n",
        "    return False"
      ],
      "metadata": {
        "id": "OEy78zoyivzp"
      },
      "execution_count": 3,
      "outputs": []
    },
    {
      "cell_type": "code",
      "source": [
        "#fetch weather data using Visual Crossing api\n",
        "def fetch_weather(city_name):\n",
        "    weather_url = f\"https://weather.visualcrossing.com/VisualCrossingWebServices/rest/services/timeline/{city_name}/today?key={visualcrossing_api_key}\"\n",
        "    weather_response = requests.get(weather_url)\n",
        "    return weather_response.json()"
      ],
      "metadata": {
        "id": "FKnsXhfUpeoj"
      },
      "execution_count": 4,
      "outputs": []
    },
    {
      "cell_type": "code",
      "source": [
        "#get user input for the flight number\n",
        "flight_number = input(\"Enter the flight number (e.g., EK5): \")"
      ],
      "metadata": {
        "colab": {
          "base_uri": "https://localhost:8080/"
        },
        "id": "M6Q1oEfdphfo",
        "outputId": "c6e30ddc-d15d-4b95-a722-e9b559a1f132"
      },
      "execution_count": 6,
      "outputs": [
        {
          "name": "stdout",
          "output_type": "stream",
          "text": [
            "Enter the flight number (e.g., EK5): RC470\n"
          ]
        }
      ]
    },
    {
      "cell_type": "code",
      "source": [
        "#fetch flight status from AviationStack api\n",
        "flight_url = f\"http://api.aviationstack.com/v1/flights?access_key={aviationstack_api_key}&flight_iata={flight_number}\"\n",
        "flight_response = requests.get(flight_url)\n",
        "flight_data = flight_response.json()\n",
        "\n",
        "if flight_data['data']:\n",
        "    flight_info = flight_data['data'][0]\n",
        "\n",
        "    flight_status = flight_info['flight_status']\n",
        "\n",
        "\n",
        "    departure_city = flight_info['departure']['airport']\n",
        "    arrival_city = flight_info['arrival']['airport']\n",
        "\n",
        "    print(f\"\\nFlight Status for {flight_number}: {flight_status}\")\n",
        "    print(f\"Departure City: {departure_city}\")\n",
        "    print(f\"Arrival City: {arrival_city}\")\n",
        "\n",
        "    #Fetch and display weather for departure city\n",
        "    departure_weather = fetch_weather(departure_city)\n",
        "    if departure_weather:\n",
        "        dep_conditions = departure_weather['days'][0]['conditions']\n",
        "        dep_precip_prob = departure_weather['days'][0]['precipprob']\n",
        "        dep_wind_speed = departure_weather['days'][0]['windspeed']\n",
        "\n",
        "        print(f\"\\nWeather in {departure_city}: {dep_conditions}\")\n",
        "        print(f\"Precipitation Probability: {dep_precip_prob}%\")\n",
        "        print(f\"Wind Speed: {dep_wind_speed} mph\")\n",
        "\n",
        "        if is_bad_weather(dep_precip_prob, dep_wind_speed, dep_conditions):\n",
        "            print(f\"Bad weather detected in {departure_city}.\")\n",
        "\n",
        "  #fetch and display weather for arrival city\n",
        "    arrival_weather = fetch_weather(arrival_city)\n",
        "    if arrival_weather:\n",
        "        arr_conditions = arrival_weather['days'][0]['conditions']\n",
        "        arr_precip_prob = arrival_weather['days'][0]['precipprob']\n",
        "        arr_wind_speed = arrival_weather['days'][0]['windspeed']\n",
        "\n",
        "        print(f\"\\nWeather in {arrival_city}: {arr_conditions}\")\n",
        "        print(f\"Precipitation Probability: {arr_precip_prob}%\")\n",
        "        print(f\"Wind Speed: {arr_wind_speed} mph\")\n",
        "\n",
        "        if is_bad_weather(arr_precip_prob, arr_wind_speed, arr_conditions):\n",
        "            print(f\"Bad weather detected in {arrival_city}.\")\n",
        "            if flight_status == 'delayed':\n",
        "                print(\"The flight is already delayed, and weather at the arrival city might be a factor.\")\n",
        "            else:\n",
        "                print(\"The flight is currently on time, but bad weather at the arrival city might cause a delay.\")\n",
        "else:\n",
        "    print(f\"No flight data available for flight {flight_number}.\")"
      ],
      "metadata": {
        "colab": {
          "base_uri": "https://localhost:8080/"
        },
        "id": "W6ta8Jd5iya1",
        "outputId": "11bcd865-dd17-4182-815a-0e5892bd8781"
      },
      "execution_count": 7,
      "outputs": [
        {
          "output_type": "stream",
          "name": "stdout",
          "text": [
            "\n",
            "Flight Status for RC470: scheduled\n",
            "Departure City: Vagar\n",
            "Arrival City: Billund\n",
            "\n",
            "Weather in Vagar: Rain, Partially cloudy\n",
            "Precipitation Probability: 100.0%\n",
            "Wind Speed: 6.3 mph\n",
            "Bad weather detected in Vagar.\n",
            "\n",
            "Weather in Billund: Partially cloudy\n",
            "Precipitation Probability: 0.0%\n",
            "Wind Speed: 20.8 mph\n",
            "Bad weather detected in Billund.\n",
            "The flight is currently on time, but bad weather at the arrival city might cause a delay.\n"
          ]
        }
      ]
    }
  ]
}